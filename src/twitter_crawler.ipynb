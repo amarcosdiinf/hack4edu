{
 "cells": [
  {
   "cell_type": "code",
   "execution_count": 27,
   "metadata": {},
   "outputs": [],
   "source": [
    "from tweepy import OAuthHandler\n",
    "from tweepy import API\n",
    "from tweepy import Cursor\n",
    "from datetime import datetime\n",
    "import json"
   ]
  },
  {
   "cell_type": "code",
   "execution_count": 4,
   "metadata": {},
   "outputs": [],
   "source": [
    "consumer_key=\"TY6dPFQYUXduW9L3w5f36vd43\"\n",
    "consumer_secret=\"0nP8USJo2TgUsFSKc2eMvW1kAObgAKBADwhfKP5jMrAJB4ck98\"\n",
    "access_token=\"908811176-R9DIOWfODGjPWkxoUY1bvJ6733x3ArIN6xL0oJ6c\"\n",
    "access_token_secret=\"5lHiyp4XbDMaWnfNdDxBXRHJhVnbymjMMJLwHVH4Eudmq\"\n",
    "\n",
    "auth = OAuthHandler(consumer_key, consumer_secret)\n",
    "auth.set_access_token(access_token, access_token_secret)\n",
    "auth_api = API(auth, wait_on_rate_limit=True)"
   ]
  },
  {
   "cell_type": "code",
   "execution_count": 23,
   "metadata": {},
   "outputs": [],
   "source": [
    "target = \"ProFuturo_\"\n",
    "\n",
    "item = auth_api.get_user(target)\n",
    "\n",
    "account_dict = {\n",
    "                    \"account_id\" : item.id,\n",
    "                    \"account_username\" : item.screen_name,\n",
    "                    \"account_full_name\" : item.name,\n",
    "                    \"account_biography\" : item.description,\n",
    "                    \"account_profile_picture_url\" : item.profile_image_url_https,\n",
    "                    \"account_external_url\" : item.url,\n",
    "                    \"account_n_posts\" : item.statuses_count,\n",
    "                    \"account_followers\" : item.followers_count,\n",
    "                    \"account_follows\" : item.friends_count,\n",
    "                    \"account_is_private\" : item.protected,\n",
    "                    \"account_is_verified\" : item.verified\n",
    "               }\n",
    "\n",
    "if(item.location != None): \n",
    "    account_dict[\"location\"] = item.location \n",
    "else:\n",
    "    account_dict[\"location\"] = \"\"\n",
    "\n",
    "\n",
    "\n",
    "posts = []\n",
    "\n",
    "\n",
    "for full_tweets in Cursor(auth_api.user_timeline,screen_name=target,timeout=999999).items(30):\n",
    "    tweet_dict = {}\n",
    "   \n",
    "    tweet_dict[\"post_id\"] = full_tweets.id\n",
    "    tweet_dict[\"n_likes\"] = full_tweets.favorite_count\n",
    "    tweet_dict[\"n_retweets\"] = full_tweets.retweet_count\n",
    "    tweet_dict[\"caption\"] = full_tweets.text\n",
    "    tweet_dict[\"created_time\"] = datetime.timestamp(full_tweets.created_at)\n",
    "    \n",
    "    replies=[]\n",
    "    for tweet in Cursor(auth_api.search,q=f\"to:{target}\", result_type='recent', timeout=999999).items(100): \n",
    "        if hasattr(tweet, 'in_reply_to_status_id_str'): \n",
    "            if (tweet.in_reply_to_status_id_str==full_tweets.id_str): \n",
    "                status_to_dict = {\n",
    "                                    \"id_comment\": tweet.id,\n",
    "                                    \"text\": tweet.text,\n",
    "                                    \"owner\": tweet.author.screen_name,\n",
    "                                    \"created_at\":  datetime.timestamp(tweet.created_at)\n",
    "                                 }\n",
    "                author = auth_api.get_user(tweet.author.screen_name)\n",
    "                \n",
    "                if(item.location != None): \n",
    "                    status_to_dict[\"location\"] = author.location \n",
    "                else:\n",
    "                    status_to_dict[\"location\"] = \"\"\n",
    "                \n",
    "                replies.append(status_to_dict)\n",
    "    tweet_dict['comments'] = replies\n",
    "    posts.append(tweet_dict)\n",
    "\n",
    "account_dict[\"posts\"] = posts"
   ]
  },
  {
   "cell_type": "code",
   "execution_count": 59,
   "metadata": {},
   "outputs": [],
   "source": [
    "with open('corpus_twitter_posts.json', 'w', encoding='utf-8') as f:\n",
    "    json.dump(account_dict, f, ensure_ascii=False, indent=4)"
   ]
  }
 ],
 "metadata": {
  "kernelspec": {
   "display_name": "Python 3",
   "language": "python",
   "name": "python3"
  },
  "language_info": {
   "codemirror_mode": {
    "name": "ipython",
    "version": 3
   },
   "file_extension": ".py",
   "mimetype": "text/x-python",
   "name": "python",
   "nbconvert_exporter": "python",
   "pygments_lexer": "ipython3",
   "version": "3.7.6"
  }
 },
 "nbformat": 4,
 "nbformat_minor": 4
}
