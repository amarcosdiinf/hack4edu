{
 "cells": [
  {
   "cell_type": "code",
   "execution_count": 84,
   "metadata": {},
   "outputs": [],
   "source": [
    "from tweepy import OAuthHandler\n",
    "from tweepy import API\n",
    "from tweepy import Cursor\n",
    "from datetime import datetime, date, time, timedelta\n",
    "from collections import Counter\n",
    "from datetime import datetime\n",
    "import sys\n",
    "import pandas as pd"
   ]
  },
  {
   "cell_type": "code",
   "execution_count": 2,
   "metadata": {},
   "outputs": [],
   "source": [
    "consumer_key=\"TY6dPFQYUXduW9L3w5f36vd43\"\n",
    "consumer_secret=\"0nP8USJo2TgUsFSKc2eMvW1kAObgAKBADwhfKP5jMrAJB4ck98\"\n",
    "access_token=\"908811176-R9DIOWfODGjPWkxoUY1bvJ6733x3ArIN6xL0oJ6c\"\n",
    "access_token_secret=\"5lHiyp4XbDMaWnfNdDxBXRHJhVnbymjMMJLwHVH4Eudmq\"\n",
    "\n",
    "auth = OAuthHandler(consumer_key, consumer_secret)\n",
    "auth.set_access_token(access_token, access_token_secret)\n",
    "auth_api = API(auth, wait_on_rate_limit=True)"
   ]
  },
  {
   "cell_type": "code",
   "execution_count": 3,
   "metadata": {},
   "outputs": [],
   "source": [
    "#account_list = []\n",
    "#if (len(sys.argv) > 1):\n",
    "#  account_list = sys.argv[1:]\n",
    "#else:\n",
    "#  print(\"Please provide a list of usernames at the command line.\")\n",
    "#  sys.exit(0)"
   ]
  },
  {
   "cell_type": "code",
   "execution_count": 47,
   "metadata": {},
   "outputs": [
    {
     "name": "stdout",
     "output_type": "stream",
     "text": [
      "Getting data for ProFuturo_\n",
      "name: @Profuturo_\n",
      "screen_name: ProFuturo_\n",
      "description: Programa de educación digital de @FundacionTef y @FundLaCaixa para reducir la brecha educativa en África, LATAM, el Caribe y Asia #EducarTransforma\n",
      "statuses_count: 3333\n",
      "friends_count: 747\n",
      "followers_count: 4560\n"
     ]
    }
   ],
   "source": [
    "#if len(account_list) > 0:\n",
    "#  for target in account_list:\n",
    "target = \"ProFuturo_\"\n",
    "print(\"Getting data for \" + target)\n",
    "item = auth_api.get_user(target)\n",
    "print(\"name: \" + item.name)\n",
    "print(\"screen_name: \" + item.screen_name)\n",
    "print(\"description: \" + item.description)\n",
    "print(\"statuses_count: \" + str(item.statuses_count))\n",
    "print(\"friends_count: \" + str(item.friends_count))\n",
    "print(\"followers_count: \" + str(item.followers_count))"
   ]
  },
  {
   "cell_type": "code",
   "execution_count": 5,
   "metadata": {},
   "outputs": [
    {
     "name": "stdout",
     "output_type": "stream",
     "text": [
      "Account age (in days): 1512\n",
      "Average tweets per day: 2.20\n"
     ]
    }
   ],
   "source": [
    "tweets = item.statuses_count\n",
    "account_created_date = item.created_at\n",
    "delta = datetime.utcnow() - account_created_date\n",
    "account_age_days = delta.days\n",
    "print(\"Account age (in days): \" + str(account_age_days))\n",
    "if account_age_days > 0:\n",
    "    print(\"Average tweets per day: \" + \"%.2f\"%(float(tweets)/float(account_age_days)))"
   ]
  },
  {
   "cell_type": "code",
   "execution_count": 37,
   "metadata": {},
   "outputs": [],
   "source": [
    "hashtags = []\n",
    "mentions = []\n",
    "tweet_count = 0\n",
    "end_date = datetime.utcnow() - timedelta(days=account_age_days)\n",
    "for status in Cursor(auth_api.user_timeline, id=target).items():\n",
    "    tweet_count += 1\n",
    "    if hasattr(status, \"entities\"):\n",
    "        entities = status.entities\n",
    "        if \"hashtags\" in entities:\n",
    "            for ent in entities[\"hashtags\"]:\n",
    "                if ent is not None:\n",
    "                    if \"text\" in ent:\n",
    "                        hashtag = ent[\"text\"]\n",
    "                        if hashtag is not None:\n",
    "                            hashtags.append(hashtag)\n",
    "        if \"user_mentions\" in entities:\n",
    "            for ent in entities[\"user_mentions\"]:\n",
    "                if ent is not None:\n",
    "                    if \"screen_name\" in ent:\n",
    "                        name = ent[\"screen_name\"]\n",
    "                        if name is not None:\n",
    "                            mentions.append(name)\n",
    "    if status.created_at < end_date:\n",
    "        break"
   ]
  },
  {
   "cell_type": "code",
   "execution_count": 38,
   "metadata": {},
   "outputs": [
    {
     "name": "stdout",
     "output_type": "stream",
     "text": [
      "Most mentioned Twitter users:\n",
      "TeachForAll - 6\n",
      "UNESCO - 6\n",
      "ProFuturo_ - 4\n",
      "mEducation_A - 3\n",
      "Teach4Nigeria - 2\n",
      "TeachForLiberia - 2\n",
      "MagdalenaBrier - 2\n",
      "CentroIthaKa - 2\n",
      "EAA_Foundation - 2\n",
      "teresa_perales - 1\n",
      "Most used hashtags:\n",
      "COVID19 - 4\n",
      "CarreraProFuturoVR - 3\n",
      "OráculoMatemágico - 3\n",
      "hack4edu - 2\n",
      "educacióndigital - 2\n",
      "October1Europe - 2\n",
      "digitaleducation - 2\n",
      "Sevilla - 2\n",
      "UGR - 1\n",
      "Hack4Edu - 1\n",
      "All done. Processed 76 tweets.\n"
     ]
    }
   ],
   "source": [
    "print(\"Most mentioned Twitter users:\")\n",
    "for item, count in Counter(mentions).most_common(10):\n",
    "    print(f\"{item} - {count}\")\n",
    "    \n",
    "print(\"Most used hashtags:\")\n",
    "for item, count in Counter(hashtags).most_common(10):\n",
    "    print(f\"{item} - {count}\")\n",
    "\n",
    "print(f\"All done. Processed {tweet_count} tweets.\")"
   ]
  },
  {
   "cell_type": "code",
   "execution_count": 41,
   "metadata": {},
   "outputs": [],
   "source": [
    "profuturo_tweets = auth_api.user_timeline(screen_name = 'ProFuturo_', count = item.statuses_count)"
   ]
  },
  {
   "cell_type": "code",
   "execution_count": 7,
   "metadata": {},
   "outputs": [
    {
     "name": "stdout",
     "output_type": "stream",
     "text": [
      "Tweet : @ekadeelatlante https://t.co/535rFQ1Fcc - 1324062495343083525\n",
      "Replies : @EvilAFM @ekadeelatlante Hoo boy https://t.co/Cci3ehN7Rw\n",
      "Tweet : @marinapinguina Devuélveme el baño o serás denunciada a la policía. - 1324062232750264320\n",
      "Replies : @EvilAFM @marinapinguina Cambia esw grifo bro. Yo lo puse y es muy bonito, pero en cuanto se moje un poco veras... nunca luce\n",
      "Replies : @EvilAFM @marinapinguina Coño, ya decía yo que me sonaba ese suelo https://t.co/fgeD6Enw6Y\n",
      "Replies : @EvilAFM @marinapinguina 😂😂Cada vez me cae mejor\n",
      "Tweet : Iba a poner la 4ª de Harry Potter pero me duele el estómago bastante. Mañana le damos a la precuela de la nueva peli de Batman. - 1324062058640560134\n",
      "Replies : @EvilAFM Manzanilla tio\n",
      "Replies : @EvilAFM Si!!!!! Más contenido de calidad, no puedo esperar!!!\n",
      "Replies : @EvilAFM Mejórate, si tal tomate una manzanilla o algo así q a mi me suele funcionar\n",
      "Replies : @EvilAFM La 4ª ya???😱 pestañeo y me pierdo el maratón..\n",
      "Replies : @EvilAFM Recuerdo la vez que dijiste que lo de ver pelis era solo 1 o 2 veces por mes\n",
      "Replies : @EvilAFM No serás capaz?\n",
      "Replies : @EvilAFM Bien, ya la veremos mañana, recupérate pronto\n",
      "Replies : @EvilAFM Aprovecho para decir que acabo de ver entrenar a tu dragon 3 y Dios, tremenda puñalada en el corazón mas v… https://t.co/cWjngqKlGC\n",
      "Replies : @EvilAFM Pero ya salió esa?\n",
      "Replies : @EvilAFM No vas a jugar más?\n",
      "Replies : @EvilAFM ¿Las personas que estan suscritos a su canal y estan en pc, pueden ver la pelicula que esta viendo Alex?\n",
      "Replies : @EvilAFM F\n",
      "Tweet : @Blau_Motors @alexrs98YT � - 1324053515950579712\n",
      "Tweet : @Felipez360 Podrías estar en la grieta odiando cada puto segundo pero prefieres esto, en fin. - 1324038668944920576\n",
      "Tweet : @TwitchES Lo que me hizo esa persona va en contra de los derechos humanos. - 1324002035361026049\n",
      "Tweet : @Zerep5 @Salinas2k El baño lo han hecho en 8 días. 3 meses han sido todas las obras. Baños, cocina, armarios, aires… https://t.co/3jxC3vtiqy - 1323967660493803520\n",
      "Tweet : @giccho3_ No he usado bidet en 33 años. Fuck that. - 1323955482160205824\n",
      "Tweet : @iamam0n_ @devilslines https://t.co/cVzG6f2Rd4 - 1323951289630425089\n",
      "Tweet : @iamam0n_ @devilslines Más agua gasta comer 1kg de carne � - 1323949662185918465\n"
     ]
    }
   ],
   "source": [
    "dict_replies = {}\n",
    "replies_to_tweet = []\n",
    "non_bmp_map = dict.fromkeys(range(0x10000, sys.maxunicode + 1), 0xfffd)  \n",
    "\n",
    "for full_tweets in Cursor(auth_api.user_timeline,screen_name='EvilAFM',timeout=999999).items(10):\n",
    "    for tweet in Cursor(auth_api.search,q='to:EvilAFM', result_type='recent',timeout=999999).items(50):\n",
    "        if hasattr(tweet, 'in_reply_to_status_id_str'):\n",
    "            if (tweet.in_reply_to_status_id_str==full_tweets.id_str):\n",
    "                replies_to_tweet.append(tweet.text)  \n",
    "    print(f\"Tweet : {full_tweets.text.translate(non_bmp_map)} - {full_tweets.id}\")\n",
    "    dict_replies[full_tweets.id] = replies_to_tweet\n",
    "    for elements in replies_to_tweet:\n",
    "        print(f\"Replies : {elements}\")\n",
    "    replies_to_tweet.clear()"
   ]
  },
  {
   "cell_type": "code",
   "execution_count": 15,
   "metadata": {},
   "outputs": [
    {
     "data": {
      "text/plain": [
       "{1318480174699192320: [],\n",
       " 1318467639514116096: [],\n",
       " 1318184890563764227: [],\n",
       " 1317810817019019265: [],\n",
       " 1317805965467668480: [],\n",
       " 1317803644356616193: [],\n",
       " 1317802071828156418: [],\n",
       " 1317800522859118592: [],\n",
       " 1317799364350242816: [],\n",
       " 1317798565473931264: []}"
      ]
     },
     "execution_count": 15,
     "metadata": {},
     "output_type": "execute_result"
    }
   ],
   "source": [
    "dict_replies"
   ]
  },
  {
   "cell_type": "code",
   "execution_count": 14,
   "metadata": {},
   "outputs": [
    {
     "name": "stderr",
     "output_type": "stream",
     "text": [
      "/Users/Administrador/opt/anaconda3/lib/python3.7/site-packages/ipykernel_launcher.py:1: DeprecationWarning: The default dtype for empty Series will be 'object' instead of 'float64' in a future version. Specify a dtype explicitly to silence this warning.\n",
      "  \"\"\"Entry point for launching an IPython kernel.\n"
     ]
    }
   ],
   "source": [
    "df = pd.DataFrame({key: pd.Series(value) for key, value in dict_replies.items()})\n",
    "df.to_csv(\"corpus_twitter.csv\", encoding='utf-8', index=False)"
   ]
  },
  {
   "cell_type": "code",
   "execution_count": 49,
   "metadata": {},
   "outputs": [
    {
     "name": "stdout",
     "output_type": "stream",
     "text": [
      "Number of empty arrays:  3199\n",
      "Number of non-empty arrays:  4\n"
     ]
    }
   ],
   "source": [
    "first_element_of_non_empty = [l[0] for l in dict_replies.values() if l]\n",
    "\n",
    "num_non_empty = len(first_element_of_non_empty)\n",
    "num_empty = len(dict_replies) - num_non_empty\n",
    "print(\"Number of empty arrays: \", num_empty)\n",
    "print(\"Number of non-empty arrays: \", num_non_empty)"
   ]
  },
  {
   "cell_type": "code",
   "execution_count": null,
   "metadata": {},
   "outputs": [],
   "source": [
    "dict_replies = {}\n",
    "replies_to_tweet = []\n",
    "non_bmp_map = dict.fromkeys(range(0x10000, sys.maxunicode + 1), 0xfffd)  \n",
    "\n",
    "for full_tweets in Cursor(auth_api.user_timeline,screen_name='ProFuturo_',timeout=999999).items(10):\n",
    "    for tweet in Cursor(auth_api.search,q='to:ProFuturo_', since_id=992433028155654144, result_type='recent',timeout=999999).items(50):\n",
    "        if hasattr(tweet, 'in_reply_to_status_id_str'):\n",
    "            if (tweet.in_reply_to_status_id_str==full_tweets.id_str):\n",
    "                replies_to_tweet.append(tweet.text)  \n",
    "    #print(\"Tweet :\",full_tweets.text.translate(non_bmp_map))\n",
    "    dict_replies[full_tweets.id] = replies_to_tweet\n",
    "    #for elements in replies:\n",
    "    #    print(\"Replies :\",elements)\n",
    "    replies_to_tweet.clear()"
   ]
  },
  {
   "cell_type": "code",
   "execution_count": 76,
   "metadata": {},
   "outputs": [
    {
     "data": {
      "text/plain": [
       "4560"
      ]
     },
     "execution_count": 76,
     "metadata": {},
     "output_type": "execute_result"
    }
   ],
   "source": [
    "item.followers_count"
   ]
  },
  {
   "cell_type": "code",
   "execution_count": 69,
   "metadata": {},
   "outputs": [
    {
     "data": {
      "text/plain": [
       "['__class__',\n",
       " '__delattr__',\n",
       " '__dict__',\n",
       " '__dir__',\n",
       " '__doc__',\n",
       " '__eq__',\n",
       " '__format__',\n",
       " '__ge__',\n",
       " '__getattribute__',\n",
       " '__getstate__',\n",
       " '__gt__',\n",
       " '__hash__',\n",
       " '__init__',\n",
       " '__init_subclass__',\n",
       " '__le__',\n",
       " '__lt__',\n",
       " '__module__',\n",
       " '__ne__',\n",
       " '__new__',\n",
       " '__reduce__',\n",
       " '__reduce_ex__',\n",
       " '__repr__',\n",
       " '__setattr__',\n",
       " '__sizeof__',\n",
       " '__str__',\n",
       " '__subclasshook__',\n",
       " '__weakref__',\n",
       " '_api',\n",
       " '_json',\n",
       " 'contributors_enabled',\n",
       " 'created_at',\n",
       " 'default_profile',\n",
       " 'default_profile_image',\n",
       " 'description',\n",
       " 'entities',\n",
       " 'favourites_count',\n",
       " 'follow',\n",
       " 'follow_request_sent',\n",
       " 'followers',\n",
       " 'followers_count',\n",
       " 'followers_ids',\n",
       " 'following',\n",
       " 'friends',\n",
       " 'friends_count',\n",
       " 'geo_enabled',\n",
       " 'has_extended_profile',\n",
       " 'id',\n",
       " 'id_str',\n",
       " 'is_translation_enabled',\n",
       " 'is_translator',\n",
       " 'lang',\n",
       " 'listed_count',\n",
       " 'lists',\n",
       " 'lists_memberships',\n",
       " 'lists_subscriptions',\n",
       " 'location',\n",
       " 'name',\n",
       " 'notifications',\n",
       " 'parse',\n",
       " 'parse_list',\n",
       " 'profile_background_color',\n",
       " 'profile_background_image_url',\n",
       " 'profile_background_image_url_https',\n",
       " 'profile_background_tile',\n",
       " 'profile_banner_url',\n",
       " 'profile_image_url',\n",
       " 'profile_image_url_https',\n",
       " 'profile_link_color',\n",
       " 'profile_location',\n",
       " 'profile_sidebar_border_color',\n",
       " 'profile_sidebar_fill_color',\n",
       " 'profile_text_color',\n",
       " 'profile_use_background_image',\n",
       " 'protected',\n",
       " 'screen_name',\n",
       " 'status',\n",
       " 'statuses_count',\n",
       " 'time_zone',\n",
       " 'timeline',\n",
       " 'translator_type',\n",
       " 'unfollow',\n",
       " 'url',\n",
       " 'utc_offset',\n",
       " 'verified']"
      ]
     },
     "execution_count": 69,
     "metadata": {},
     "output_type": "execute_result"
    }
   ],
   "source": [
    "dir(item)"
   ]
  },
  {
   "cell_type": "code",
   "execution_count": null,
   "metadata": {},
   "outputs": [],
   "source": [
    "account_dict = {\n",
    "                    \"account_id\" : item.id,\n",
    "                    \"account_username\" : item.name,\n",
    "                    \"account_full_name\" : item.screen_name,\n",
    "                    \"account_biography\" : item.description,\n",
    "                    \"account_profile_picture_url\" : item.profile_image_url_https,\n",
    "                    \"account_external_url\" : item.url,\n",
    "                    \"account_n_posts\" : item.statuses_count,\n",
    "                    \"account_followers\" : item.followers_count,\n",
    "                    \"account_follows\" : item.friends_count,\n",
    "                    \"account_is_private\" : item.protected,\n",
    "                    \"account_is_verified\" : item.verified\n",
    "               }\n",
    "\n",
    "posts = []\n",
    "name = \"ProFuturo_\"\n",
    "\n",
    "dict_tweets = {}\n",
    "for full_tweets in Cursor(auth_api.user_timeline,screen_name=name,timeout=999999).items(3):\n",
    "    replies=[]\n",
    "    tweet_dict = {}\n",
    "    tweet_dict[\"post_id\"] = full_tweets.id\n",
    "    tweet_dict[\"n_likes\"] = full_tweets.favorite_count\n",
    "    tweet_dict[\"n_retweets\"] = full_tweets.retweets_count\n",
    "    tweet_dict[\"caption\"] = full_tweets.text\n",
    "    tweet_dict[\"created_time\"] = datetime.timestamp(full_tweets.created_at)\n",
    "    tweet_dict[\"img_url\"] = media.image_high_resolution_url\n",
    "    for tweet in Cursor(auth_api.search,q=f\"to:{name}\", result_type='recent', timeout=999999).items(100): \n",
    "        if hasattr(tweet, 'in_reply_to_status_id_str'): \n",
    "            if (tweet.in_reply_to_status_id_str==full_tweets.id_str): \n",
    "                replies.append(tweet.text)\n",
    "    dict_tweets[full_tweets.id_str] = replies\n",
    "\n",
    "\n",
    "for media in medias:\n",
    "    tweet_dict = {}\n",
    "    comments_list = []\n",
    "    tweet_dict[\"post_id\"] = media.identifier\n",
    "    tweet_dict[\"n_likes\"] = media.likes_count\n",
    "    tweet_dict[\"n_retweets\"] = media.likes_count\n",
    "    tweet_dict[\"caption\"] = media.caption\n",
    "    tweet_dict[\"created_time\"] = media.created_time\n",
    "    tweet_dict[\"img_url\"] = media.image_high_resolution_url\n",
    "    \n",
    "    comments = instagram.get_media_comments_by_id(media.identifier, 30)\n",
    "    \n",
    "    for comment in comments[\"comments\"]:\n",
    "        comments_attr_dict = {}\n",
    "        comments_attr_dict[\"id_comment\"] = comment.identifier \n",
    "        comments_attr_dict[\"text\"] = comment.text\n",
    "        comments_attr_dict[\"owner\"] = comment.owner.username\n",
    "        comments_attr_dict[\"created_at\"] = comment.created_at\n",
    "        \n",
    "        comments_list.append(comments_attr_dict)\n",
    "\n",
    "    media_dict[\"comments\"] = comments_list\n",
    "    posts.append(media_dict)\n",
    "        \n",
    "\n",
    "account_dict[\"posts\"] = posts"
   ]
  },
  {
   "cell_type": "code",
   "execution_count": 67,
   "metadata": {},
   "outputs": [],
   "source": [
    "#tweet_id = '1324062058640560134' \n",
    "dict_tweets = {}\n",
    "for full_tweets in Cursor(auth_api.user_timeline,screen_name='EvilAFM',timeout=999999).items(3):\n",
    "    replies=[]\n",
    "    for tweet in Cursor(auth_api.search,q='to:EvilAFM', result_type='recent', timeout=999999).items(100): \n",
    "        if hasattr(tweet, 'in_reply_to_status_id_str'): \n",
    "            if (tweet.in_reply_to_status_id_str==full_tweets.id_str): \n",
    "                replies.append(tweet.text)\n",
    "    dict_tweets[full_tweets.id_str] = replies"
   ]
  },
  {
   "cell_type": "code",
   "execution_count": 85,
   "metadata": {},
   "outputs": [],
   "source": [
    "timestamp = datetime.timestamp(full_tweets.created_at)"
   ]
  },
  {
   "cell_type": "code",
   "execution_count": 93,
   "metadata": {},
   "outputs": [
    {
     "data": {
      "text/plain": [
       "1324062058640560134"
      ]
     },
     "execution_count": 93,
     "metadata": {},
     "output_type": "execute_result"
    }
   ],
   "source": [
    "full_tweets.id"
   ]
  },
  {
   "cell_type": "code",
   "execution_count": 77,
   "metadata": {},
   "outputs": [
    {
     "data": {
      "text/plain": [
       "['__class__',\n",
       " '__delattr__',\n",
       " '__dict__',\n",
       " '__dir__',\n",
       " '__doc__',\n",
       " '__eq__',\n",
       " '__format__',\n",
       " '__ge__',\n",
       " '__getattribute__',\n",
       " '__getstate__',\n",
       " '__gt__',\n",
       " '__hash__',\n",
       " '__init__',\n",
       " '__init_subclass__',\n",
       " '__le__',\n",
       " '__lt__',\n",
       " '__module__',\n",
       " '__ne__',\n",
       " '__new__',\n",
       " '__reduce__',\n",
       " '__reduce_ex__',\n",
       " '__repr__',\n",
       " '__setattr__',\n",
       " '__sizeof__',\n",
       " '__str__',\n",
       " '__subclasshook__',\n",
       " '__weakref__',\n",
       " '_api',\n",
       " '_json',\n",
       " 'author',\n",
       " 'contributors',\n",
       " 'coordinates',\n",
       " 'created_at',\n",
       " 'destroy',\n",
       " 'entities',\n",
       " 'favorite',\n",
       " 'favorite_count',\n",
       " 'favorited',\n",
       " 'geo',\n",
       " 'id',\n",
       " 'id_str',\n",
       " 'in_reply_to_screen_name',\n",
       " 'in_reply_to_status_id',\n",
       " 'in_reply_to_status_id_str',\n",
       " 'in_reply_to_user_id',\n",
       " 'in_reply_to_user_id_str',\n",
       " 'is_quote_status',\n",
       " 'lang',\n",
       " 'parse',\n",
       " 'parse_list',\n",
       " 'place',\n",
       " 'retweet',\n",
       " 'retweet_count',\n",
       " 'retweeted',\n",
       " 'retweets',\n",
       " 'source',\n",
       " 'source_url',\n",
       " 'text',\n",
       " 'truncated',\n",
       " 'user']"
      ]
     },
     "execution_count": 77,
     "metadata": {},
     "output_type": "execute_result"
    }
   ],
   "source": [
    "dir(full_tweets)"
   ]
  },
  {
   "cell_type": "code",
   "execution_count": 43,
   "metadata": {},
   "outputs": [
    {
     "name": "stdout",
     "output_type": "stream",
     "text": [
      "@EvilAFM En mi opinión el caliz de fuego no me gusta es buena y tal pero el resto son mejores\n",
      "@EvilAFM esta? https://t.co/jB76EHZczJ\n",
      "@EvilAFM Jugarás el Little Hope??\n",
      "@EvilAFM Manzanilla tio\n",
      "@EvilAFM Si!!!!! Más contenido de calidad, no puedo esperar!!!\n",
      "@EvilAFM Mejórate, si tal tomate una manzanilla o algo así q a mi me suele funcionar\n",
      "@EvilAFM La 4ª ya???😱 pestañeo y me pierdo el maratón..\n",
      "@EvilAFM Recuerdo la vez que dijiste que lo de ver pelis era solo 1 o 2 veces por mes\n",
      "@EvilAFM No serás capaz?\n",
      "@EvilAFM Bien, ya la veremos mañana, recupérate pronto\n",
      "@EvilAFM Aprovecho para decir que acabo de ver entrenar a tu dragon 3 y Dios, tremenda puñalada en el corazón mas v… https://t.co/cWjngqKlGC\n",
      "@EvilAFM Pero ya salió esa?\n",
      "@EvilAFM No vas a jugar más?\n",
      "@EvilAFM ¿Las personas que estan suscritos a su canal y estan en pc, pueden ver la pelicula que esta viendo Alex?\n",
      "@EvilAFM F\n",
      "@EvilAFM El guason?\n",
      "@EvilAFM Pero para entender la precuela de batman tienes que ver si o si la cuarta de Harry, porque cuando mueres e… https://t.co/F9RVtwCsQ3\n",
      "@EvilAFM El dolor de estómago es producido por la falta de b12🤣\n",
      "@EvilAFM Esto no habría pasado si se veían todas del tirón\n",
      "@EvilAFM Hola Álex, jugarás a little hope?\n",
      "@EvilAFM :c\n",
      "@EvilAFM Pero solo duró una película jajajaja\n",
      "@EvilAFM lele pancha?? 😟\n",
      "@EvilAFM Que te mejores :)\n",
      "@EvilAFM Estómago reparo, venga listo tírate el pedo que te atenaza las tripas y dale a HP4\n",
      "@EvilAFM Sigo sin entender que tiene harry potter que ha la gente le gusta tanto, ví la primera película y me aburr… https://t.co/a3nJ042msP\n",
      "@EvilAFM Y más que te dolería viendo semejante bazofia.\n",
      "@EvilAFM Jamas creí que vería crepúsculo con Alex , vaya añi\n",
      "@EvilAFM Cuidadte papa oso\n",
      "@EvilAFM Recupere C nomas :v\n",
      "@EvilAFM Oleee\n",
      "@EvilAFM Acaba de salir hace poco la primera snapshot de la 1.17 por si la quieres ver\n",
      "@EvilAFM Vitamina B12\n"
     ]
    }
   ],
   "source": [
    "for reply in replies:\n",
    "    print(reply.text)"
   ]
  },
  {
   "cell_type": "code",
   "execution_count": 30,
   "metadata": {},
   "outputs": [
    {
     "data": {
      "text/plain": [
       "['__class__',\n",
       " '__delattr__',\n",
       " '__dict__',\n",
       " '__dir__',\n",
       " '__doc__',\n",
       " '__eq__',\n",
       " '__format__',\n",
       " '__ge__',\n",
       " '__getattribute__',\n",
       " '__getstate__',\n",
       " '__gt__',\n",
       " '__hash__',\n",
       " '__init__',\n",
       " '__init_subclass__',\n",
       " '__le__',\n",
       " '__lt__',\n",
       " '__module__',\n",
       " '__ne__',\n",
       " '__new__',\n",
       " '__reduce__',\n",
       " '__reduce_ex__',\n",
       " '__repr__',\n",
       " '__setattr__',\n",
       " '__sizeof__',\n",
       " '__str__',\n",
       " '__subclasshook__',\n",
       " '__weakref__',\n",
       " '_api',\n",
       " '_json',\n",
       " 'author',\n",
       " 'contributors',\n",
       " 'coordinates',\n",
       " 'created_at',\n",
       " 'destroy',\n",
       " 'entities',\n",
       " 'favorite',\n",
       " 'favorite_count',\n",
       " 'favorited',\n",
       " 'geo',\n",
       " 'id',\n",
       " 'id_str',\n",
       " 'in_reply_to_screen_name',\n",
       " 'in_reply_to_status_id',\n",
       " 'in_reply_to_status_id_str',\n",
       " 'in_reply_to_user_id',\n",
       " 'in_reply_to_user_id_str',\n",
       " 'is_quote_status',\n",
       " 'lang',\n",
       " 'metadata',\n",
       " 'parse',\n",
       " 'parse_list',\n",
       " 'place',\n",
       " 'retweet',\n",
       " 'retweet_count',\n",
       " 'retweeted',\n",
       " 'retweets',\n",
       " 'source',\n",
       " 'source_url',\n",
       " 'text',\n",
       " 'truncated',\n",
       " 'user']"
      ]
     },
     "execution_count": 30,
     "metadata": {},
     "output_type": "execute_result"
    }
   ],
   "source": [
    "dir(replies[0])"
   ]
  },
  {
   "cell_type": "code",
   "execution_count": 37,
   "metadata": {},
   "outputs": [
    {
     "data": {
      "text/plain": [
       "['__class__',\n",
       " '__delattr__',\n",
       " '__dict__',\n",
       " '__dir__',\n",
       " '__doc__',\n",
       " '__eq__',\n",
       " '__format__',\n",
       " '__ge__',\n",
       " '__getattribute__',\n",
       " '__getstate__',\n",
       " '__gt__',\n",
       " '__hash__',\n",
       " '__init__',\n",
       " '__init_subclass__',\n",
       " '__le__',\n",
       " '__lt__',\n",
       " '__module__',\n",
       " '__ne__',\n",
       " '__new__',\n",
       " '__reduce__',\n",
       " '__reduce_ex__',\n",
       " '__repr__',\n",
       " '__setattr__',\n",
       " '__sizeof__',\n",
       " '__str__',\n",
       " '__subclasshook__',\n",
       " '__weakref__',\n",
       " '_api',\n",
       " '_json',\n",
       " 'contributors_enabled',\n",
       " 'created_at',\n",
       " 'default_profile',\n",
       " 'default_profile_image',\n",
       " 'description',\n",
       " 'entities',\n",
       " 'favourites_count',\n",
       " 'follow',\n",
       " 'follow_request_sent',\n",
       " 'followers',\n",
       " 'followers_count',\n",
       " 'followers_ids',\n",
       " 'following',\n",
       " 'friends',\n",
       " 'friends_count',\n",
       " 'geo_enabled',\n",
       " 'has_extended_profile',\n",
       " 'id',\n",
       " 'id_str',\n",
       " 'is_translation_enabled',\n",
       " 'is_translator',\n",
       " 'lang',\n",
       " 'listed_count',\n",
       " 'lists',\n",
       " 'lists_memberships',\n",
       " 'lists_subscriptions',\n",
       " 'location',\n",
       " 'name',\n",
       " 'notifications',\n",
       " 'parse',\n",
       " 'parse_list',\n",
       " 'profile_background_color',\n",
       " 'profile_background_image_url',\n",
       " 'profile_background_image_url_https',\n",
       " 'profile_background_tile',\n",
       " 'profile_banner_url',\n",
       " 'profile_image_url',\n",
       " 'profile_image_url_https',\n",
       " 'profile_link_color',\n",
       " 'profile_sidebar_border_color',\n",
       " 'profile_sidebar_fill_color',\n",
       " 'profile_text_color',\n",
       " 'profile_use_background_image',\n",
       " 'protected',\n",
       " 'screen_name',\n",
       " 'statuses_count',\n",
       " 'time_zone',\n",
       " 'timeline',\n",
       " 'translator_type',\n",
       " 'unfollow',\n",
       " 'url',\n",
       " 'utc_offset',\n",
       " 'verified']"
      ]
     },
     "execution_count": 37,
     "metadata": {},
     "output_type": "execute_result"
    }
   ],
   "source": [
    "dir(replies[0].author)"
   ]
  },
  {
   "cell_type": "code",
   "execution_count": 45,
   "metadata": {},
   "outputs": [
    {
     "data": {
      "text/plain": [
       "776093579395600385"
      ]
     },
     "execution_count": 45,
     "metadata": {},
     "output_type": "execute_result"
    }
   ],
   "source": [
    "item.id"
   ]
  },
  {
   "cell_type": "code",
   "execution_count": null,
   "metadata": {},
   "outputs": [],
   "source": []
  }
 ],
 "metadata": {
  "kernelspec": {
   "display_name": "Python 3",
   "language": "python",
   "name": "python3"
  },
  "language_info": {
   "codemirror_mode": {
    "name": "ipython",
    "version": 3
   },
   "file_extension": ".py",
   "mimetype": "text/x-python",
   "name": "python",
   "nbconvert_exporter": "python",
   "pygments_lexer": "ipython3",
   "version": "3.7.6"
  }
 },
 "nbformat": 4,
 "nbformat_minor": 4
}
