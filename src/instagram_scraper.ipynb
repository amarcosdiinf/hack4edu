{
 "cells": [
  {
   "cell_type": "markdown",
   "metadata": {},
   "source": [
    "{\n",
    "\n",
    "\t“account_id”:”123456”,\n",
    "\t“account_username”:”profuturo_”,\n",
    "\t“account_full_name”:”ProFuturo”,\n",
    "\t“account_biography”:”mucho texto”,\n",
    "\t“account_profile_picture_url”:”https://…”,\n",
    "\t“account_external_url”:”https://…”,\n",
    "\t“account_followers”:1234,\n",
    "\t“account_follows”:1234,\n",
    "\t“account_private”:True,\n",
    "\t“account_verified”:True,\n",
    "\n",
    "\t“posts”:[…] \n",
    "\n",
    "}"
   ]
  },
  {
   "cell_type": "code",
   "execution_count": null,
   "metadata": {},
   "outputs": [],
   "source": [
    "post1 = {\"id\":\"1234\", \"\"}"
   ]
  }
 ],
 "metadata": {
  "kernelspec": {
   "display_name": "Python 3",
   "language": "python",
   "name": "python3"
  },
  "language_info": {
   "codemirror_mode": {
    "name": "ipython",
    "version": 3
   },
   "file_extension": ".py",
   "mimetype": "text/x-python",
   "name": "python",
   "nbconvert_exporter": "python",
   "pygments_lexer": "ipython3",
   "version": "3.8.3"
  }
 },
 "nbformat": 4,
 "nbformat_minor": 4
}
