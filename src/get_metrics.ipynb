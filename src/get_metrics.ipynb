{
 "cells": [
  {
   "cell_type": "code",
   "execution_count": null,
   "metadata": {},
   "outputs": [],
   "source": [
    "import pandas as pd"
   ]
  },
  {
   "cell_type": "code",
   "execution_count": null,
   "metadata": {},
   "outputs": [],
   "source": [
    "def generate_df(data_dict, metric_name):\n",
    "    generated_df = pd.Series(data_dict, name=metric_name)\n",
    "    generated_df.index.name = \"post_id\"\n",
    "    generated_df.reset_index()\n",
    "    \n",
    "    return generated_df"
   ]
  },
  {
   "cell_type": "code",
   "execution_count": null,
   "metadata": {},
   "outputs": [],
   "source": [
    "def get_applause_rate(posts_list, n_followers):\n",
    "    applause_rate_dict = {}\n",
    "    for post in posts_list:\n",
    "        applause_rate = (post[\"n_likes\"] / n_followers) * 100\n",
    "        applause_rate_dict[post[\"post_id\"]] = applause_rate \n",
    "\n",
    "    return generate_df(applause_rate_dict, \"applause_rate\")"
   ]
  },
  {
   "cell_type": "code",
   "execution_count": null,
   "metadata": {},
   "outputs": [],
   "source": [
    "def get_avg_engagement_rate(posts_list, n_followers):\n",
    "    avg_engagement_dict = {}\n",
    "    for post in posts_list:\n",
    "        avg_engagement_rate = ((post[\"n_likes\"] + len(post[\"comments\"])) / n_followers) * 100\n",
    "        avg_engagement_dict[post[\"post_id\"]] = avg_engagement_rate\n",
    "    \n",
    "    return generate_df(avg_engagement_dict, \"avg_engagement_rate\")"
   ]
  },
  {
   "cell_type": "code",
   "execution_count": null,
   "metadata": {},
   "outputs": [],
   "source": [
    "def get_conversation_rate(posts_list, n_followers):\n",
    "    conversation_rate_dict = {}\n",
    "    for post in posts_list:\n",
    "        conversation_rate = (len(post[\"comments\"]) / n_followers) * 100\n",
    "        conversation_rate_dict[post[\"post_id\"]] = conversation_rate\n",
    "\n",
    "    return generate_df(conversation_rate_dict, \"conversation_rate\")"
   ]
  },
  {
   "cell_type": "code",
   "execution_count": null,
   "metadata": {},
   "outputs": [],
   "source": [
    "def get_is_commented_rate(posts_no_comments, n_posts):\n",
    "    n_posts_no_comments = len(posts_no_comments)\n",
    "    n_posts_comments = n_posts - len(posts_no_comments)\n",
    "    \n",
    "    posts_no_comments_rate = (n_posts_no_comments / n_posts) * 100\n",
    "    posts_comments_rate = (n_posts_comments / n_posts) * 100\n",
    "    \n",
    "    \n",
    "    return {\"posts_comments_rate\": posts_comments_rate, \"posts_no_comments_rate\": posts_no_comments_rate}"
   ]
  }
 ],
 "metadata": {
  "kernelspec": {
   "display_name": "Python 3",
   "language": "python",
   "name": "python3"
  },
  "language_info": {
   "codemirror_mode": {
    "name": "ipython",
    "version": 3
   },
   "file_extension": ".py",
   "mimetype": "text/x-python",
   "name": "python",
   "nbconvert_exporter": "python",
   "pygments_lexer": "ipython3",
   "version": "3.7.6"
  }
 },
 "nbformat": 4,
 "nbformat_minor": 4
}
