{
 "cells": [
  {
   "cell_type": "code",
   "execution_count": 1,
   "metadata": {},
   "outputs": [],
   "source": [
    "from tweepy import OAuthHandler\n",
    "from tweepy import API\n",
    "from tweepy import Cursor\n",
    "from datetime import datetime, date, time, timedelta\n",
    "from collections import Counter\n",
    "import sys\n",
    "import pandas as pd"
   ]
  },
  {
   "cell_type": "code",
   "execution_count": 2,
   "metadata": {},
   "outputs": [],
   "source": [
    "consumer_key=\"TY6dPFQYUXduW9L3w5f36vd43\"\n",
    "consumer_secret=\"0nP8USJo2TgUsFSKc2eMvW1kAObgAKBADwhfKP5jMrAJB4ck98\"\n",
    "access_token=\"908811176-R9DIOWfODGjPWkxoUY1bvJ6733x3ArIN6xL0oJ6c\"\n",
    "access_token_secret=\"5lHiyp4XbDMaWnfNdDxBXRHJhVnbymjMMJLwHVH4Eudmq\"\n",
    "\n",
    "auth = OAuthHandler(consumer_key, consumer_secret)\n",
    "auth.set_access_token(access_token, access_token_secret)\n",
    "auth_api = API(auth, wait_on_rate_limit=True)"
   ]
  },
  {
   "cell_type": "code",
   "execution_count": 34,
   "metadata": {},
   "outputs": [],
   "source": [
    "#account_list = []\n",
    "#if (len(sys.argv) > 1):\n",
    "#  account_list = sys.argv[1:]\n",
    "#else:\n",
    "#  print(\"Please provide a list of usernames at the command line.\")\n",
    "#  sys.exit(0)"
   ]
  },
  {
   "cell_type": "code",
   "execution_count": 3,
   "metadata": {},
   "outputs": [
    {
     "name": "stdout",
     "output_type": "stream",
     "text": [
      "Getting data for ProFuturo_\n",
      "name: @Profuturo_\n",
      "screen_name: ProFuturo_\n",
      "description: Programa de educación digital de @FundacionTef y @FundLaCaixa para reducir la brecha educativa en África, LATAM, el Caribe y Asia #EducarTransforma\n",
      "statuses_count: 3307\n",
      "friends_count: 731\n",
      "followers_count: 4512\n"
     ]
    }
   ],
   "source": [
    "#if len(account_list) > 0:\n",
    "#  for target in account_list:\n",
    "target = \"ProFuturo_\"\n",
    "print(\"Getting data for \" + target)\n",
    "item = auth_api.get_user(target)\n",
    "print(\"name: \" + item.name)\n",
    "print(\"screen_name: \" + item.screen_name)\n",
    "print(\"description: \" + item.description)\n",
    "print(\"statuses_count: \" + str(item.statuses_count))\n",
    "print(\"friends_count: \" + str(item.friends_count))\n",
    "print(\"followers_count: \" + str(item.followers_count))"
   ]
  },
  {
   "cell_type": "code",
   "execution_count": 4,
   "metadata": {},
   "outputs": [
    {
     "name": "stdout",
     "output_type": "stream",
     "text": [
      "Account age (in days): 1496\n",
      "Average tweets per day: 2.21\n"
     ]
    }
   ],
   "source": [
    "tweets = item.statuses_count\n",
    "account_created_date = item.created_at\n",
    "delta = datetime.utcnow() - account_created_date\n",
    "account_age_days = delta.days\n",
    "print(\"Account age (in days): \" + str(account_age_days))\n",
    "if account_age_days > 0:\n",
    "    print(\"Average tweets per day: \" + \"%.2f\"%(float(tweets)/float(account_age_days)))"
   ]
  },
  {
   "cell_type": "code",
   "execution_count": 37,
   "metadata": {},
   "outputs": [],
   "source": [
    "hashtags = []\n",
    "mentions = []\n",
    "tweet_count = 0\n",
    "end_date = datetime.utcnow() - timedelta(days=account_age_days)\n",
    "for status in Cursor(auth_api.user_timeline, id=target).items():\n",
    "    tweet_count += 1\n",
    "    if hasattr(status, \"entities\"):\n",
    "        entities = status.entities\n",
    "        if \"hashtags\" in entities:\n",
    "            for ent in entities[\"hashtags\"]:\n",
    "                if ent is not None:\n",
    "                    if \"text\" in ent:\n",
    "                        hashtag = ent[\"text\"]\n",
    "                        if hashtag is not None:\n",
    "                            hashtags.append(hashtag)\n",
    "        if \"user_mentions\" in entities:\n",
    "            for ent in entities[\"user_mentions\"]:\n",
    "                if ent is not None:\n",
    "                    if \"screen_name\" in ent:\n",
    "                        name = ent[\"screen_name\"]\n",
    "                        if name is not None:\n",
    "                            mentions.append(name)\n",
    "    if status.created_at < end_date:\n",
    "        break"
   ]
  },
  {
   "cell_type": "code",
   "execution_count": 38,
   "metadata": {},
   "outputs": [
    {
     "name": "stdout",
     "output_type": "stream",
     "text": [
      "Most mentioned Twitter users:\n",
      "TeachForAll - 6\n",
      "UNESCO - 6\n",
      "ProFuturo_ - 4\n",
      "mEducation_A - 3\n",
      "Teach4Nigeria - 2\n",
      "TeachForLiberia - 2\n",
      "MagdalenaBrier - 2\n",
      "CentroIthaKa - 2\n",
      "EAA_Foundation - 2\n",
      "teresa_perales - 1\n",
      "Most used hashtags:\n",
      "COVID19 - 4\n",
      "CarreraProFuturoVR - 3\n",
      "OráculoMatemágico - 3\n",
      "hack4edu - 2\n",
      "educacióndigital - 2\n",
      "October1Europe - 2\n",
      "digitaleducation - 2\n",
      "Sevilla - 2\n",
      "UGR - 1\n",
      "Hack4Edu - 1\n",
      "All done. Processed 76 tweets.\n"
     ]
    }
   ],
   "source": [
    "print(\"Most mentioned Twitter users:\")\n",
    "for item, count in Counter(mentions).most_common(10):\n",
    "    print(f\"{item} - {count}\")\n",
    "    \n",
    "print(\"Most used hashtags:\")\n",
    "for item, count in Counter(hashtags).most_common(10):\n",
    "    print(f\"{item} - {count}\")\n",
    "\n",
    "print(f\"All done. Processed {tweet_count} tweets.\")"
   ]
  },
  {
   "cell_type": "code",
   "execution_count": 41,
   "metadata": {},
   "outputs": [],
   "source": [
    "profuturo_tweets = auth_api.user_timeline(screen_name = 'ProFuturo_', count = item.statuses_count)"
   ]
  },
  {
   "cell_type": "code",
   "execution_count": 16,
   "metadata": {},
   "outputs": [
    {
     "name": "stdout",
     "output_type": "stream",
     "text": [
      "Tweet : Esta tarde sale Amnesia Rebirth. Oh. � - 1318480174699192320\n",
      "Tweet : @chincheto77 No puedo esperar a que algún político se gaste lo que acabo de pagar de impuestos en cocaína y putas. Así da gusto. - 1318467639514116096\n",
      "Tweet : Creo que hay que ir por cabezas https://t.co/YlyBSrauQm - 1318184890563764227\n",
      "Tweet : @KNekro Se, es otra experiencia la verdad. Da gusto verse una peli de vez en cuando - 1317810817019019265\n",
      "Tweet : Mi puto padre. Por cierto Perkz ha jugado como un putismo animal. https://t.co/roDTLiUNSK - 1317805965467668480\n",
      "Tweet : @Felipez360 En nuestro caso sería \n",
      "Te mueres\n",
      "Oye no tenías el cleanse? \n",
      "Ah sí, no me acordaba\n",
      "Ok. - 1317803644356616193\n",
      "Tweet : Es el minuto 15?\n",
      "Sí\n",
      "G2: Ok, ganemos entonces. - 1317802071828156418\n",
      "Tweet : @Felipez360 Hombre tienen que llegar a la final para que los chinos les ganen 3/0 - 1317800522859118592\n",
      "Tweet : @DanisuarezL Hombre es vegana, cómo quieres que la llame? - 1317799364350242816\n",
      "Tweet : @Kurrunko Se me ha hecho algo tarde, normalmente como a la 1. - 1317798565473931264\n"
     ]
    }
   ],
   "source": [
    "dict_replies = {}\n",
    "replies_to_tweet = []\n",
    "non_bmp_map = dict.fromkeys(range(0x10000, sys.maxunicode + 1), 0xfffd)  \n",
    "\n",
    "for full_tweets in Cursor(auth_api.user_timeline,screen_name='EvilAFM',timeout=999999).items(10):\n",
    "    for tweet in Cursor(auth_api.search,q='to:EvilAFM', result_type='recent',timeout=999999).items(50):\n",
    "        if hasattr(tweet, 'in_reply_to_status_id_str'):\n",
    "            if (tweet.in_reply_to_status_id_str==full_tweets.id_str):\n",
    "                replies_to_tweet.append(tweet.text)  \n",
    "    print(f\"Tweet : {full_tweets.text.translate(non_bmp_map)} - {full_tweets.id}\")\n",
    "    dict_replies[full_tweets.id] = replies_to_tweet\n",
    "    for elements in replies:\n",
    "        print(f\"Replies : {elements}\")\n",
    "    replies_to_tweet.clear()"
   ]
  },
  {
   "cell_type": "code",
   "execution_count": 15,
   "metadata": {},
   "outputs": [
    {
     "data": {
      "text/plain": [
       "{1318480174699192320: [],\n",
       " 1318467639514116096: [],\n",
       " 1318184890563764227: [],\n",
       " 1317810817019019265: [],\n",
       " 1317805965467668480: [],\n",
       " 1317803644356616193: [],\n",
       " 1317802071828156418: [],\n",
       " 1317800522859118592: [],\n",
       " 1317799364350242816: [],\n",
       " 1317798565473931264: []}"
      ]
     },
     "execution_count": 15,
     "metadata": {},
     "output_type": "execute_result"
    }
   ],
   "source": [
    "dict_replies"
   ]
  },
  {
   "cell_type": "code",
   "execution_count": 14,
   "metadata": {},
   "outputs": [
    {
     "name": "stderr",
     "output_type": "stream",
     "text": [
      "/Users/Administrador/opt/anaconda3/lib/python3.7/site-packages/ipykernel_launcher.py:1: DeprecationWarning: The default dtype for empty Series will be 'object' instead of 'float64' in a future version. Specify a dtype explicitly to silence this warning.\n",
      "  \"\"\"Entry point for launching an IPython kernel.\n"
     ]
    }
   ],
   "source": [
    "df = pd.DataFrame({key: pd.Series(value) for key, value in dict_replies.items()})\n",
    "df.to_csv(\"corpus_twitter.csv\", encoding='utf-8', index=False)"
   ]
  },
  {
   "cell_type": "code",
   "execution_count": 49,
   "metadata": {},
   "outputs": [
    {
     "name": "stdout",
     "output_type": "stream",
     "text": [
      "Number of empty arrays:  3199\n",
      "Number of non-empty arrays:  4\n"
     ]
    }
   ],
   "source": [
    "first_element_of_non_empty = [l[0] for l in dict_replies.values() if l]\n",
    "\n",
    "num_non_empty = len(first_element_of_non_empty)\n",
    "num_empty = len(dict_replies) - num_non_empty\n",
    "print(\"Number of empty arrays: \", num_empty)\n",
    "print(\"Number of non-empty arrays: \", num_non_empty)"
   ]
  },
  {
   "cell_type": "code",
   "execution_count": null,
   "metadata": {},
   "outputs": [],
   "source": [
    "dict_replies = {}\n",
    "replies_to_tweet = []\n",
    "non_bmp_map = dict.fromkeys(range(0x10000, sys.maxunicode + 1), 0xfffd)  \n",
    "\n",
    "for full_tweets in Cursor(auth_api.user_timeline,screen_name='ProFuturo_',timeout=999999).items(10):\n",
    "    for tweet in Cursor(auth_api.search,q='to:ProFuturo_', since_id=992433028155654144, result_type='recent',timeout=999999).items(50):\n",
    "        if hasattr(tweet, 'in_reply_to_status_id_str'):\n",
    "            if (tweet.in_reply_to_status_id_str==full_tweets.id_str):\n",
    "                replies_to_tweet.append(tweet.text)  \n",
    "    #print(\"Tweet :\",full_tweets.text.translate(non_bmp_map))\n",
    "    dict_replies[full_tweets.id] = replies_to_tweet\n",
    "    #for elements in replies:\n",
    "    #    print(\"Replies :\",elements)\n",
    "    replies_to_tweet.clear()"
   ]
  }
 ],
 "metadata": {
  "kernelspec": {
   "display_name": "Python 3",
   "language": "python",
   "name": "python3"
  },
  "language_info": {
   "codemirror_mode": {
    "name": "ipython",
    "version": 3
   },
   "file_extension": ".py",
   "mimetype": "text/x-python",
   "name": "python",
   "nbconvert_exporter": "python",
   "pygments_lexer": "ipython3",
   "version": "3.7.6"
  }
 },
 "nbformat": 4,
 "nbformat_minor": 4
}
