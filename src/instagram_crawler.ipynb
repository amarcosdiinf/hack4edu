{
 "cells": [
  {
   "cell_type": "code",
   "execution_count": 51,
   "metadata": {},
   "outputs": [],
   "source": [
    "from igramscraper.instagram import Instagram\n",
    "from time import sleep\n",
    "import json"
   ]
  },
  {
   "cell_type": "code",
   "execution_count": 2,
   "metadata": {},
   "outputs": [
    {
     "data": {
      "text/plain": [
       "{'cookie': 'csrftoken=0XAcPE5U4MHfRqmiFpGyjUVqw9Kx0lwB; ds_user_id=44229392557; rur=RVA; sessionid=44229392557%3A0CWRfWR8nSCnrn%3A10; mid=X6KUkwAEAAH6u3rttn3YjB4VavbM; ',\n",
       " 'referer': 'https://www.instagram.com/',\n",
       " 'x-csrftoken': '0XAcPE5U4MHfRqmiFpGyjUVqw9Kx0lwB',\n",
       " 'user-agent': 'Instagram 126.0.0.25.121 Android (23/6.0.1; 320dpi; 720x1280; samsung; SM-A310F; a3xelte; samsungexynos7580; en_GB; 110937453)'}"
      ]
     },
     "execution_count": 2,
     "metadata": {},
     "output_type": "execute_result"
    }
   ],
   "source": [
    "instagram = Instagram()\n",
    "\n",
    "# authentication supported\n",
    "instagram.with_credentials(\"hack.4edu\", \"Profuturo2020\")\n",
    "instagram.login(True)"
   ]
  },
  {
   "cell_type": "code",
   "execution_count": 118,
   "metadata": {},
   "outputs": [],
   "source": [
    "#Getting an account by username\n",
    "account = instagram.get_account(\"profuturo_\") # ProFuturo's account Id"
   ]
  },
  {
   "cell_type": "code",
   "execution_count": 112,
   "metadata": {},
   "outputs": [],
   "source": [
    "account_dict = {\n",
    "                    \"account_id\" : account.identifier,\n",
    "                    \"account_username\" : account.username,\n",
    "                    \"account_full_name\" : account.full_name,\n",
    "                    \"account_biography\" : account.biography,\n",
    "                    \"account_profile_picture_url\" : account.get_profile_picture_url(),\n",
    "                    \"account_external_url\" : account.external_url,\n",
    "                    \"account_n_posts\" : account.media_count,\n",
    "                    \"account_followers\" : account.followed_by_count,\n",
    "                    \"account_follows\" : account.follows_count,\n",
    "                    \"account_is_private\" : account.is_private,\n",
    "                    \"account_is_verified\" : account.is_verified\n",
    "               }\n",
    "\n",
    "n_requests = 0\n",
    "posts = []\n",
    "#id_publicacion, likes_count, caption, created_time, image_high_resolution_url, Comentarios\n",
    "\n",
    "medias = instagram.get_medias(\"profuturo_\", account.media_count)\n",
    "\n",
    "for media in medias:\n",
    "    media_dict = {}\n",
    "    comments_list = []\n",
    "    media_dict[\"post_id\"] = media.identifier\n",
    "    media_dict[\"n_likes\"] = media.likes_count\n",
    "    media_dict[\"caption\"] = media.caption\n",
    "    media_dict[\"created_time\"] = media.created_time\n",
    "    media_dict[\"img_url\"] = media.image_high_resolution_url\n",
    "    \n",
    "    comments = instagram.get_media_comments_by_id(media.identifier, 30)\n",
    "    \n",
    "    for comment in comments[\"comments\"]:\n",
    "        comments_attr_dict = {}\n",
    "        comments_attr_dict[\"id_comment\"] = comment.identifier \n",
    "        comments_attr_dict[\"text\"] = comment.text\n",
    "        comments_attr_dict[\"owner\"] = comment.owner.username\n",
    "        comments_attr_dict[\"created_at\"] = comment.created_at\n",
    "        \n",
    "        comments_list.append(comments_attr_dict)\n",
    "\n",
    "    media_dict[\"comments\"] = comments_list\n",
    "    posts.append(media_dict)\n",
    "\n",
    "    if n_requests < 10:\n",
    "        n_requests += 1\n",
    "        sleep(30)\n",
    "    else:\n",
    "        n_requests = 0\n",
    "        sleep(300)\n",
    "        \n",
    "\n",
    "account_dict[\"posts\"] = posts"
   ]
  },
  {
   "cell_type": "markdown",
   "metadata": {},
   "source": [
    "## Writing JSON with account info"
   ]
  },
  {
   "cell_type": "code",
   "execution_count": 113,
   "metadata": {},
   "outputs": [],
   "source": [
    "with open('corpus_instagram.json', 'w', encoding='utf-8') as f:\n",
    "    json.dump(account_dict, f, ensure_ascii=False, indent=4)"
   ]
  },
  {
   "cell_type": "markdown",
   "metadata": {},
   "source": [
    "## Writing JSON without account info (the one we'll use)"
   ]
  },
  {
   "cell_type": "code",
   "execution_count": 116,
   "metadata": {},
   "outputs": [],
   "source": [
    "with open('corpus_instagram_posts.json', 'w', encoding='utf-8') as f:\n",
    "    json.dump(posts, f, ensure_ascii=False, indent=4)"
   ]
  }
 ],
 "metadata": {
  "kernelspec": {
   "display_name": "Python 3",
   "language": "python",
   "name": "python3"
  },
  "language_info": {
   "codemirror_mode": {
    "name": "ipython",
    "version": 3
   },
   "file_extension": ".py",
   "mimetype": "text/x-python",
   "name": "python",
   "nbconvert_exporter": "python",
   "pygments_lexer": "ipython3",
   "version": "3.7.6"
  }
 },
 "nbformat": 4,
 "nbformat_minor": 4
}
