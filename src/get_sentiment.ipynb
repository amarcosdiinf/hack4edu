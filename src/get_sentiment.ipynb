{
 "cells": [
  {
   "cell_type": "code",
   "execution_count": 10,
   "metadata": {},
   "outputs": [],
   "source": [
    "from sentiment_analysis_spanish import sentiment_analysis\n",
    "import emoji\n",
    "import pandas as pd\n",
    "from pymongo import MongoClient\n",
    "import json"
   ]
  },
  {
   "cell_type": "code",
   "execution_count": 11,
   "metadata": {},
   "outputs": [],
   "source": [
    "def get_mean_likes_per_post(posts_list):\n",
    "    n_likes = 0\n",
    "    for post in posts_list:\n",
    "        n_likes += post[\"n_likes\"]\n",
    "    mean_likes_per_post = n_likes/len(posts_list)\n",
    "    \n",
    "    return mean_likes_per_post"
   ]
  },
  {
   "cell_type": "code",
   "execution_count": 12,
   "metadata": {},
   "outputs": [],
   "source": [
    "def generate_sentiment_df(sentiment_dict):\n",
    "    sentiment_df = pd.Series(sentiment_dict, name=\"sentiment\")\n",
    "    sentiment_df.index.name = \"post_id\"\n",
    "    sentiment_df.reset_index()\n",
    "    \n",
    "    return sentiment_df"
   ]
  },
  {
   "cell_type": "code",
   "execution_count": 13,
   "metadata": {},
   "outputs": [],
   "source": [
    "def generate_opensource_instagram_posts(socialnetworkdb, sentiment_df):\n",
    "    posts_opensource_list = []\n",
    "    for post in socialnetworkdb.instagram_posts.find({}, {\"_id\":0}):\n",
    "        post[\"sentiment\"] = sentiment_df[post[\"post_id\"]]\n",
    "        posts_opensource_list.append(post)\n",
    "        \n",
    "    return posts_opensource_list"
   ]
  },
  {
   "cell_type": "code",
   "execution_count": 14,
   "metadata": {},
   "outputs": [],
   "source": [
    "def generate_opensource_twitter_posts(socialnetworkdb, sentiment_df):\n",
    "    posts_opensource_list = []\n",
    "    for post in socialnetworkdb.twitter_posts.find({}, {\"_id\":0}):\n",
    "        post[\"sentiment\"] = sentiment_df[post[\"post_id\"]]\n",
    "        posts_opensource_list.append(post)\n",
    "        \n",
    "    return posts_opensource_list"
   ]
  },
  {
   "cell_type": "code",
   "execution_count": 15,
   "metadata": {},
   "outputs": [],
   "source": [
    "def write_json(file_name, posts_opensource_list):\n",
    "    with open(file_name, 'w', encoding='utf-8') as f:\n",
    "        json.dump(posts_opensource_list, f, ensure_ascii=False, indent=4)"
   ]
  },
  {
   "cell_type": "code",
   "execution_count": 17,
   "metadata": {},
   "outputs": [],
   "source": [
    "def get_sentiment_per_post(posts_sentiment_list):\n",
    "    \n",
    "    # Creation of emojis arrays in order to map the text when there are emojis in it\n",
    "    positive_emojis = [\"👏\", \"👍\", \"🙌\", \"❤️\", \"🧡\", \"💛\", \"💚\", \"💙\", \"💜\", \"🖤\", \"🤍\", \"🤎\", \"♥️\", \"☺️\", \"😊\", \"🔝\", \"💯\", \"🎈\"]\n",
    "    negative_emojis = [\"👎\"]\n",
    "\n",
    "    # If the sentiment of the post is negative, but the number of likes is sueperior to the mean likes per post, \n",
    "    # then it will be considered as neuter.\n",
    "    mean_likes_per_post = get_mean_likes_per_post(posts_sentiment_list)\n",
    "    \n",
    "    sentiment = sentiment_analysis.SentimentAnalysisSpanish()\n",
    "\n",
    "    sentiment_dict = {}\n",
    "\n",
    "    for post in posts_sentiment_list:\n",
    "        sentiment_result = \"neuter\"\n",
    "        n_comments = len(post[\"comments\"])\n",
    "        sentiment_grade = 0\n",
    "        mean_sentiment_grade = 0\n",
    "        for comment in post[\"comments\"]:\n",
    "            # If the comments contain emojis, it is assumed that the text will express the same sentiment as the emojis do.\n",
    "            if any(emoji in comment[\"text\"] for emoji in positive_emojis):\n",
    "                comment[\"text\"] = \"perfecto\"\n",
    "            elif any(emoji in comment[\"text\"] for emoji in negative_emojis):\n",
    "                comment[\"text\"] = \"mal\"\n",
    "            sentiment_grade += sentiment.sentiment(comment[\"text\"])\n",
    "\n",
    "        if n_comments > 0:\n",
    "            mean_sentiment_grade = sentiment_grade/n_comments\n",
    "        else:\n",
    "            mean_sentiment_grade = -1\n",
    "\n",
    "\n",
    "        if (mean_sentiment_grade > 0.7) or ((mean_sentiment_grade == -1) and (post[\"n_likes\"] > mean_likes_per_post)):\n",
    "            sentiment_result = \"positive\"\n",
    "        elif (mean_sentiment_grade != -1) and (mean_sentiment_grade < 0.2) and (post[\"n_likes\"] > mean_likes_per_post): # When something has a negative feeling, there'll be comments showing it.\n",
    "            sentiment_result = \"neuter\"\n",
    "        elif (mean_sentiment_grade != -1) and (mean_sentiment_grade < 0.2):\n",
    "            sentiment_result = \"negative\"\n",
    "        else:\n",
    "            sentiment_result = \"neuter\"\n",
    "\n",
    "        sentiment_dict[post[\"post_id\"]] = sentiment_result\n",
    "        \n",
    "    return sentiment_dict"
   ]
  }
 ],
 "metadata": {
  "kernelspec": {
   "display_name": "Python 3",
   "language": "python",
   "name": "python3"
  },
  "language_info": {
   "codemirror_mode": {
    "name": "ipython",
    "version": 3
   },
   "file_extension": ".py",
   "mimetype": "text/x-python",
   "name": "python",
   "nbconvert_exporter": "python",
   "pygments_lexer": "ipython3",
   "version": "3.7.6"
  }
 },
 "nbformat": 4,
 "nbformat_minor": 4
}
